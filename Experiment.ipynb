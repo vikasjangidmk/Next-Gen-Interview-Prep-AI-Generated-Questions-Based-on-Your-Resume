{
 "cells": [
  {
   "cell_type": "code",
   "execution_count": 27,
   "metadata": {},
   "outputs": [],
   "source": [
    "from dotenv import load_dotenv\n",
    "import os\n",
    "\n",
    "load_dotenv()  # Load environment variables from a .env file if present\n",
    "\n",
    "GROQ_API_KEY = os.getenv(\"GROQ_API_KEY\")"
   ]
  },
  {
   "cell_type": "code",
   "execution_count": 28,
   "metadata": {},
   "outputs": [
    {
     "name": "stdout",
     "output_type": "stream",
     "text": [
      "Generative AI refers to a type of artificial intelligence that is capable of generating new, original content, such as images, videos, music, text, or even entire datasets. This is achieved through complex algorithms and neural networks that learn patterns and relationships within existing data, allowing the AI to create new, synthetic data that is similar in style and structure.\n",
      "\n",
      "Generative AI models can be trained on a wide range of data sources, including images, videos, audio files, and text documents. Once trained, these models can generate new content that is often indistinguishable from real data. Some common applications of generative AI include:\n",
      "\n",
      "1. **Image and video generation**: Generative AI can create realistic images and videos of objects, scenes, and people. This has applications in fields such as computer vision, robotics, and entertainment.\n",
      "2. **Text generation**: Generative AI can generate human-like text, including articles, stories, and even entire books. This has applications in fields such as content creation, language translation, and chatbots.\n",
      "3. **Music generation**: Generative AI can create original music, including melodies, harmonies, and even entire compositions. This has applications in fields such as music production, film scoring, and audio advertising.\n",
      "4. **Data augmentation**: Generative AI can generate new data that is similar in style and structure to existing data, which can be used to augment datasets and improve the performance of machine learning models.\n",
      "5. **Art and design**: Generative AI can create original artwork, including paintings, sculptures, and other forms of visual art. This has applications in fields such as fine art, graphic design, and architecture.\n",
      "\n",
      "Some of the key techniques used in generative AI include:\n",
      "\n",
      "1. **Generative Adversarial Networks (GANs)**: GANs consist of two neural networks that work together to generate new data. One network generates new data, while the other network evaluates the generated data and provides feedback to the first network.\n",
      "2. **Variational Autoencoders (VAEs)**: VAEs are a type of neural network that learns to compress and reconstruct data. They can be used to generate new data by sampling from the compressed representation.\n",
      "3. **Recurrent Neural Networks (RNNs)**: RNNs are a type of neural network that is well-suited for sequential data, such as text or music. They can be used to generate new data by predicting the next item in a sequence.\n",
      "\n",
      "The benefits of generative AI include:\n",
      "\n",
      "1. **Increased efficiency**: Generative AI can automate tasks that would otherwise require human creativity and labor.\n",
      "2. **Improved accuracy**: Generative AI can generate data that is more accurate and realistic than human-generated data.\n",
      "3. **Enhanced creativity**: Generative AI can generate new and innovative ideas that may not have been possible for humans to conceive.\n",
      "\n",
      "However, generative AI also raises concerns about:\n",
      "\n",
      "1. **Authenticity**: It can be difficult to determine whether generated data is real or fake.\n",
      "2. **Bias**: Generative AI models can perpetuate biases and stereotypes present in the training data.\n",
      "3. **Intellectual property**: Generative AI raises questions about ownership and copyright of generated data.\n",
      "\n",
      "Overall, generative AI has the potential to revolutionize a wide range of fields and industries, from art and entertainment to science and technology. However, it also requires careful consideration of the potential risks and challenges associated with this technology.\n"
     ]
    }
   ],
   "source": [
    "from langchain_groq import ChatGroq\n",
    "\n",
    "llm = ChatGroq(\n",
    "    temperature=0,\n",
    "    groq_api_key=GROQ_API_KEY,\n",
    "    model_name=\"llama-3.3-70b-versatile\"\n",
    ")\n",
    "\n",
    "response = llm.invoke(\"What is Generative AI\")\n",
    "print(response.content)"
   ]
  },
  {
   "cell_type": "code",
   "execution_count": 10,
   "metadata": {},
   "outputs": [
    {
     "name": "stderr",
     "output_type": "stream",
     "text": [
      "USER_AGENT environment variable not set, consider setting it to identify your requests.\n"
     ]
    },
    {
     "name": "stdout",
     "output_type": "stream",
     "text": [
      "Machine Learning Engineer - Job ID: 2839145 | Amazon.jobs\n",
      "Skip to main contentHomeTeamsLocationsJob categoriesMy careerMy applicationsMy profileAccount securitySettingsSign outResourcesDisability accommodationsBenefitsDiversity, equity, and inclusionInterview tipsLeadership principlesWorking at AmazonFAQ×Machine Learning EngineerJob ID: 2839145 | Amazon.com Services LLC - A57Apply nowDESCRIPTIONAre you looking to work at the forefront of Machine Learning and AI? Would you be excited to apply cutting edge Generative AI, ML and DL algorithms to solve real world problems with significant impact? Amazon is revolutionizing customer service yet again now with cutting edge AI and ML. Device, Digital and Alexa Support (D2AS) is responsible for the Customer Service operations and solutions for all Amazon Devices and Digital products, from Kindle and Echo, to Amazon Music and Prime Video. We’re seeking a Machine Learning Engineer to develop cutting-edge AI solutions leveraging Large Language Models (LLM), Machine Learning (ML) and Natural Language Processing (NLP) techniques to understand and resolve customer issues and provide earth's best customer service. We are looking for individuals with a passion for learning, researching, and deploying production-ready science solutions in a highly collaborative environment. We like to ideate, experiment, iterate, optimize and scale quickly, while thoughtfully balancing speed and quality.Key job responsibilitiesIn this role, you will:- Use ML and Generative AI tools, such as Amazon SageMaker and Amazon Bedrock, to provide a scalable production solutions to improve the customer experience, to label data, build, train, tune and deploy their models.- Collaborate with our Applied and data scientists to create and fine tune scalable ML and Generative AI solutions for business problems.- Interact with product stakeholders directly to understand the business problem, help and aid them in implementation of their ML ecosystem- Analyze and extract relevant information from large amounts of historical data to help automate and optimize key processes.- Work closely with science and engineering teams to drive model implementations and new algorithms.A day in the lifeWe thrive on solving challenging problems to innovate for our customers. By pushing the boundaries of technology, we create unparalleled experiences that enable us to rapidly adapt in a dynamic environment. Our decisions are guided by data, and we collaborate with engineering, science, and product teams to foster an innovative learning environment.If you are not sure that every qualification on the list above describes you exactly, we'd still love to hear from you! At Amazon, we value people with unique backgrounds, experiences, and skillsets. If you’re passionate about this role and want to make an impact on a global scale, please apply!Benefits summary: Amazon offers a full range of benefits that support you and eligible family members, including domestic partners and their children. Benefits can vary by location, the number of regularly scheduled hours you work, length of employment, and job status such as seasonal or temporary employment. The benefits that generally apply to regular, full-time employees include: 1. Medical, Dental, and Vision Coverage 2. Maternity and Parental Leave Options 3. Paid Time Off (PTO) 4. 401(k) PlanAbout the teamWe at D2AS strive to make digital experiences effortless for customers. Our goal is to anticipate, evaluate, prevent, and eliminate any effort required from customers. We achieve this by setting the strategy for digital support and accelerating the delivery of seamless support experiences across Amazon's digital products.Our team combines strategic thinking, technology expertise, and customer experience best practices. This ensures customers can easily get the most value from Amazon's digital offerings. We focus on providing the right support at the right time, tailored to each customer's needs. By eliminating friction and making support effortless, we enhance the overall customer experience.BASIC QUALIFICATIONS- 3+ years of non-internship professional software development experience- 2+ years of non-internship design or architecture (design patterns, reliability and scaling) of new and existing systems experience- Experience programming with at least one software programming language- Bachelor's degree in computer science or equivalent- 2+ years of relevant experience in developing and deploying large scale machine learning or deep learning models and/or systems into production, including batch and real-time data processingPREFERRED QUALIFICATIONS- 3+ years of full software development life cycle, including coding standards, code reviews, source control management, build processes, testing, and operations experience- Masters or PhD degree in computer science, engineering, mathematics, operations research, or in a highly quantitative field- Practical experience in solving complex problems in an applied environment- Experiences related to AWS services such as SageMaker, EMR, S3, DynamoDB and EC2- Experiences related to machine learning, deep learning, NLP, CV, GNN, or distributed training- Strong communication skills, with attention to detail and ability to convey rigorous mathematical concepts and considerations to non-experts- Comfortable working in a fast paced, highly collaborative, dynamic work environmentAmazon is committed to a diverse and inclusive workplace. Amazon is an equal opportunity employer and does not discriminate on the basis of race, national origin, gender, gender identity, sexual orientation, protected veteran status, disability, age, or other legally protected status.Our inclusive culture empowers Amazonians to deliver the best results for our customers. If you have a disability and need a workplace accommodation or adjustment during the application and hiring process, including support for the interview or onboarding process, please visit https://amazon.jobs/content/en/how-we-hire/accommodations for more information. If the country/region you’re applying in isn’t listed, please contact your Recruiting Partner.Our compensation reflects the cost of labor across several US geographic markets. The base pay for this position ranges from $129,300/year in our lowest geographic market up to $223,600/year in our highest geographic market. Pay is based on a number of factors including market location and may vary depending on job-related knowledge, skills, and experience. Amazon is a total compensation company. Dependent on the position offered, equity, sign-on payments, and other forms of compensation may be provided as part of a total compensation package, in addition to a full range of medical, financial, and/or other benefits. For more information,  please visit https://www.aboutamazon.com/workplace/employee-benefits. This position will remain posted until filled. Applicants should apply via our internal or external career site.Job detailsUSA, WA, SeattleMachine Learning ScienceShare this jobJOIN US ONFind CareersJob CategoriesTeamsLocationsUS and EU Military recruitingWarehouse and Hourly JobsWorking At AmazonCultureBenefitsAmazon NewsletterDiversity at AmazonOur leadership principlesHelpFAQInterview tipsReview application statusDisability accommodationsEU background checksAmazon is committed to a diverse and inclusive workplace. Amazon is an equal opportunity employer and does not discriminate on the basis of race, national origin, gender, gender identity, sexual orientation, protected veteran status, disability, age, or other legally protected status.Privacy and DataImpressum© 1996-2024, Amazon.com, Inc. or its affiliates\n"
     ]
    }
   ],
   "source": [
    "from langchain_community.document_loaders import WebBaseLoader\n",
    "loader = WebBaseLoader(\"https://www.amazon.jobs/en/jobs/2839145/machine-learning-engineer\")\n",
    "page_data = loader.load().pop().page_content\n",
    "print(page_data)"
   ]
  },
  {
   "cell_type": "code",
   "execution_count": 11,
   "metadata": {},
   "outputs": [
    {
     "name": "stdout",
     "output_type": "stream",
     "text": [
      "```json\n",
      "{\n",
      "  \"role\": \"Machine Learning Engineer\",\n",
      "  \"experience\": \"3+ years of non-internship professional software development experience, 2+ years of non-internship design or architecture experience, 2+ years of relevant experience in developing and deploying large scale machine learning or deep learning models and/or systems into production\",\n",
      "  \"skills\": [\n",
      "    \"Machine Learning\",\n",
      "    \"Deep Learning\",\n",
      "    \"Natural Language Processing\",\n",
      "    \"Large Language Models\",\n",
      "    \"Generative AI\",\n",
      "    \"AWS services such as SageMaker, EMR, S3, DynamoDB and EC2\",\n",
      "    \"Programming languages\",\n",
      "    \"Data processing\"\n",
      "  ],\n",
      "  \"description\": \"We are seeking a Machine Learning Engineer to develop cutting-edge AI solutions leveraging Large Language Models, Machine Learning and Natural Language Processing techniques to understand and resolve customer issues and provide earth's best customer service.\"\n",
      "}\n",
      "```\n"
     ]
    }
   ],
   "source": [
    "from langchain_core.prompts import PromptTemplate\n",
    "prompt_extract = PromptTemplate.from_template(\"\"\"\n",
    "        ### SCRAPED TEXT FROM WEBSITE:\n",
    "        {page_data}\n",
    "        ### INSTRUCTION:\n",
    "        The scraped text is from the career's page of a website.\n",
    "        Your job is to extract the job postings and return them in JSON format containing the\n",
    "        following keys: `role`, `experience`, `skills` and `description`.\n",
    "        Only return the valid JSON.\n",
    "        ### VALID JSON (NO PREAMBLE):\n",
    "        \"\"\")\n",
    "chain_extract = prompt_extract | llm\n",
    "res = chain_extract.invoke(input = {'page_data': page_data})\n",
    "print(res.content)"
   ]
  },
  {
   "cell_type": "code",
   "execution_count": 12,
   "metadata": {},
   "outputs": [
    {
     "name": "stdout",
     "output_type": "stream",
     "text": [
      "{'role': 'Machine Learning Engineer', 'experience': '3+ years of non-internship professional software development experience, 2+ years of non-internship design or architecture experience, 2+ years of relevant experience in developing and deploying large scale machine learning or deep learning models and/or systems into production', 'skills': ['Machine Learning', 'Deep Learning', 'Natural Language Processing', 'Large Language Models', 'Generative AI', 'AWS services such as SageMaker, EMR, S3, DynamoDB and EC2', 'Programming languages', 'Data processing'], 'description': \"We are seeking a Machine Learning Engineer to develop cutting-edge AI solutions leveraging Large Language Models, Machine Learning and Natural Language Processing techniques to understand and resolve customer issues and provide earth's best customer service.\"}\n"
     ]
    }
   ],
   "source": [
    "from langchain_core.output_parsers import JsonOutputParser\n",
    "json_parser = JsonOutputParser()\n",
    "json_res = json_parser.parse(res.content)\n",
    "print(json_res)"
   ]
  },
  {
   "cell_type": "code",
   "execution_count": 13,
   "metadata": {},
   "outputs": [
    {
     "data": {
      "text/html": [
       "<div>\n",
       "<style scoped>\n",
       "    .dataframe tbody tr th:only-of-type {\n",
       "        vertical-align: middle;\n",
       "    }\n",
       "\n",
       "    .dataframe tbody tr th {\n",
       "        vertical-align: top;\n",
       "    }\n",
       "\n",
       "    .dataframe thead th {\n",
       "        text-align: right;\n",
       "    }\n",
       "</style>\n",
       "<table border=\"1\" class=\"dataframe\">\n",
       "  <thead>\n",
       "    <tr style=\"text-align: right;\">\n",
       "      <th></th>\n",
       "      <th>Technology</th>\n",
       "    </tr>\n",
       "  </thead>\n",
       "  <tbody>\n",
       "    <tr>\n",
       "      <th>0</th>\n",
       "      <td>Python, Django, MySQL</td>\n",
       "    </tr>\n",
       "    <tr>\n",
       "      <th>1</th>\n",
       "      <td>Machine Learning, Python, TensorFlow</td>\n",
       "    </tr>\n",
       "    <tr>\n",
       "      <th>2</th>\n",
       "      <td>Large Language Models, Python, PyTorch</td>\n",
       "    </tr>\n",
       "    <tr>\n",
       "      <th>3</th>\n",
       "      <td>Deep Learning, Keras, Python</td>\n",
       "    </tr>\n",
       "    <tr>\n",
       "      <th>4</th>\n",
       "      <td>Flutter, Firebase, GraphQL</td>\n",
       "    </tr>\n",
       "    <tr>\n",
       "      <th>5</th>\n",
       "      <td>React Native, Node.js, MongoDB</td>\n",
       "    </tr>\n",
       "    <tr>\n",
       "      <th>6</th>\n",
       "      <td>iOS, Swift, Core Data</td>\n",
       "    </tr>\n",
       "    <tr>\n",
       "      <th>7</th>\n",
       "      <td>Android, Java, Room Persistence</td>\n",
       "    </tr>\n",
       "    <tr>\n",
       "      <th>8</th>\n",
       "      <td>Kotlin, Android, Firebase</td>\n",
       "    </tr>\n",
       "    <tr>\n",
       "      <th>9</th>\n",
       "      <td>Web Development, React, Node.js</td>\n",
       "    </tr>\n",
       "    <tr>\n",
       "      <th>10</th>\n",
       "      <td>Frontend, TypeScript, Angular</td>\n",
       "    </tr>\n",
       "    <tr>\n",
       "      <th>11</th>\n",
       "      <td>Backend, Kotlin, Spring Boot</td>\n",
       "    </tr>\n",
       "    <tr>\n",
       "      <th>12</th>\n",
       "      <td>Full-stack, JavaScript, Express.js</td>\n",
       "    </tr>\n",
       "    <tr>\n",
       "      <th>13</th>\n",
       "      <td>Cloud Computing, AWS, Python</td>\n",
       "    </tr>\n",
       "    <tr>\n",
       "      <th>14</th>\n",
       "      <td>AI, Python, scikit-learn</td>\n",
       "    </tr>\n",
       "    <tr>\n",
       "      <th>15</th>\n",
       "      <td>Data Engineering, Apache Spark, Python</td>\n",
       "    </tr>\n",
       "    <tr>\n",
       "      <th>16</th>\n",
       "      <td>Mobile Development, Flutter, Dart</td>\n",
       "    </tr>\n",
       "    <tr>\n",
       "      <th>17</th>\n",
       "      <td>Web App Development, Vue.js, Ruby on Rails</td>\n",
       "    </tr>\n",
       "    <tr>\n",
       "      <th>18</th>\n",
       "      <td>Game Development, Unity, C#</td>\n",
       "    </tr>\n",
       "    <tr>\n",
       "      <th>19</th>\n",
       "      <td>DevOps, Jenkins, Docker</td>\n",
       "    </tr>\n",
       "  </tbody>\n",
       "</table>\n",
       "</div>"
      ],
      "text/plain": [
       "                                    Technology\n",
       "0                        Python, Django, MySQL\n",
       "1         Machine Learning, Python, TensorFlow\n",
       "2       Large Language Models, Python, PyTorch\n",
       "3                 Deep Learning, Keras, Python\n",
       "4                   Flutter, Firebase, GraphQL\n",
       "5               React Native, Node.js, MongoDB\n",
       "6                        iOS, Swift, Core Data\n",
       "7              Android, Java, Room Persistence\n",
       "8                    Kotlin, Android, Firebase\n",
       "9              Web Development, React, Node.js\n",
       "10               Frontend, TypeScript, Angular\n",
       "11                Backend, Kotlin, Spring Boot\n",
       "12          Full-stack, JavaScript, Express.js\n",
       "13                Cloud Computing, AWS, Python\n",
       "14                    AI, Python, scikit-learn\n",
       "15      Data Engineering, Apache Spark, Python\n",
       "16           Mobile Development, Flutter, Dart\n",
       "17  Web App Development, Vue.js, Ruby on Rails\n",
       "18                 Game Development, Unity, C#\n",
       "19                     DevOps, Jenkins, Docker"
      ]
     },
     "execution_count": 13,
     "metadata": {},
     "output_type": "execute_result"
    }
   ],
   "source": [
    "import pandas as pd\n",
    "df = pd.read_csv(\"portfolio.csv\")\n",
    "df"
   ]
  },
  {
   "cell_type": "code",
   "execution_count": 1,
   "metadata": {},
   "outputs": [],
   "source": [
    "import chromadb\n",
    "client = chromadb.Client()\n",
    "collections = client.create_collection(name=\"interview\")"
   ]
  },
  {
   "cell_type": "code",
   "execution_count": 2,
   "metadata": {},
   "outputs": [],
   "source": [
    "collections.add(\n",
    "    documents = [\n",
    "        \"This document is about Kedarnath\",\n",
    "        \"This document is about Maharastra\"\n",
    "    ],\n",
    "\n",
    "    ids = ['id1', 'id2'],\n",
    "    metadatas = [\n",
    "        {\"url\": \"https://shrikedarnathcharitabletrust.uk.gov.in/index.html\"},\n",
    "        {\"url\": \"https://www.dagdushethganpati.com/\"},\n",
    "    ]\n",
    ")"
   ]
  },
  {
   "cell_type": "code",
   "execution_count": 3,
   "metadata": {},
   "outputs": [],
   "source": [
    "all_docs = collections.get()"
   ]
  },
  {
   "cell_type": "code",
   "execution_count": 4,
   "metadata": {},
   "outputs": [
    {
     "data": {
      "text/plain": [
       "{'ids': ['id1', 'id2'],\n",
       " 'embeddings': None,\n",
       " 'documents': ['This document is about Kedarnath',\n",
       "  'This document is about Maharastra'],\n",
       " 'uris': None,\n",
       " 'data': None,\n",
       " 'metadatas': [{'url': 'https://shrikedarnathcharitabletrust.uk.gov.in/index.html'},\n",
       "  {'url': 'https://www.dagdushethganpati.com/'}],\n",
       " 'included': [<IncludeEnum.documents: 'documents'>,\n",
       "  <IncludeEnum.metadatas: 'metadatas'>]}"
      ]
     },
     "execution_count": 4,
     "metadata": {},
     "output_type": "execute_result"
    }
   ],
   "source": [
    "all_docs"
   ]
  },
  {
   "cell_type": "code",
   "execution_count": 5,
   "metadata": {},
   "outputs": [
    {
     "data": {
      "text/plain": [
       "{'ids': ['id1'],\n",
       " 'embeddings': None,\n",
       " 'documents': ['This document is about Kedarnath'],\n",
       " 'uris': None,\n",
       " 'data': None,\n",
       " 'metadatas': [{'url': 'https://shrikedarnathcharitabletrust.uk.gov.in/index.html'}],\n",
       " 'included': [<IncludeEnum.documents: 'documents'>,\n",
       "  <IncludeEnum.metadatas: 'metadatas'>]}"
      ]
     },
     "execution_count": 5,
     "metadata": {},
     "output_type": "execute_result"
    }
   ],
   "source": [
    "documents = collections.get(ids=['id1'])\n",
    "documents"
   ]
  },
  {
   "cell_type": "code",
   "execution_count": 6,
   "metadata": {},
   "outputs": [
    {
     "data": {
      "text/plain": [
       "{'ids': [['id2', 'id1']],\n",
       " 'embeddings': None,\n",
       " 'documents': [['This document is about Maharastra',\n",
       "   'This document is about Kedarnath']],\n",
       " 'uris': None,\n",
       " 'data': None,\n",
       " 'metadatas': [[{'url': 'https://www.dagdushethganpati.com/'},\n",
       "   {'url': 'https://shrikedarnathcharitabletrust.uk.gov.in/index.html'}]],\n",
       " 'distances': [[1.1875228881835938, 1.2304192781448364]],\n",
       " 'included': [<IncludeEnum.distances: 'distances'>,\n",
       "  <IncludeEnum.documents: 'documents'>,\n",
       "  <IncludeEnum.metadatas: 'metadatas'>]}"
      ]
     },
     "execution_count": 6,
     "metadata": {},
     "output_type": "execute_result"
    }
   ],
   "source": [
    "results = collections.query(\n",
    "    query_texts=[\"Query is about ganpati\"],\n",
    "    n_results=2\n",
    ")\n",
    "\n",
    "results"
   ]
  },
  {
   "cell_type": "code",
   "execution_count": 7,
   "metadata": {},
   "outputs": [],
   "source": [
    "import uuid\n",
    "import chromadb\n",
    "\n",
    "client = chromadb.PersistentClient()\n",
    "collections = client.get_or_create_collection(name=\"portfolio_data\")"
   ]
  },
  {
   "cell_type": "code",
   "execution_count": 14,
   "metadata": {},
   "outputs": [
    {
     "data": {
      "text/html": [
       "<div>\n",
       "<style scoped>\n",
       "    .dataframe tbody tr th:only-of-type {\n",
       "        vertical-align: middle;\n",
       "    }\n",
       "\n",
       "    .dataframe tbody tr th {\n",
       "        vertical-align: top;\n",
       "    }\n",
       "\n",
       "    .dataframe thead th {\n",
       "        text-align: right;\n",
       "    }\n",
       "</style>\n",
       "<table border=\"1\" class=\"dataframe\">\n",
       "  <thead>\n",
       "    <tr style=\"text-align: right;\">\n",
       "      <th></th>\n",
       "      <th>Technology</th>\n",
       "    </tr>\n",
       "  </thead>\n",
       "  <tbody>\n",
       "    <tr>\n",
       "      <th>0</th>\n",
       "      <td>Python, Django, MySQL</td>\n",
       "    </tr>\n",
       "    <tr>\n",
       "      <th>1</th>\n",
       "      <td>Machine Learning, Python, TensorFlow</td>\n",
       "    </tr>\n",
       "    <tr>\n",
       "      <th>2</th>\n",
       "      <td>Large Language Models, Python, PyTorch</td>\n",
       "    </tr>\n",
       "    <tr>\n",
       "      <th>3</th>\n",
       "      <td>Deep Learning, Keras, Python</td>\n",
       "    </tr>\n",
       "    <tr>\n",
       "      <th>4</th>\n",
       "      <td>Flutter, Firebase, GraphQL</td>\n",
       "    </tr>\n",
       "    <tr>\n",
       "      <th>5</th>\n",
       "      <td>React Native, Node.js, MongoDB</td>\n",
       "    </tr>\n",
       "    <tr>\n",
       "      <th>6</th>\n",
       "      <td>iOS, Swift, Core Data</td>\n",
       "    </tr>\n",
       "    <tr>\n",
       "      <th>7</th>\n",
       "      <td>Android, Java, Room Persistence</td>\n",
       "    </tr>\n",
       "    <tr>\n",
       "      <th>8</th>\n",
       "      <td>Kotlin, Android, Firebase</td>\n",
       "    </tr>\n",
       "    <tr>\n",
       "      <th>9</th>\n",
       "      <td>Web Development, React, Node.js</td>\n",
       "    </tr>\n",
       "    <tr>\n",
       "      <th>10</th>\n",
       "      <td>Frontend, TypeScript, Angular</td>\n",
       "    </tr>\n",
       "    <tr>\n",
       "      <th>11</th>\n",
       "      <td>Backend, Kotlin, Spring Boot</td>\n",
       "    </tr>\n",
       "    <tr>\n",
       "      <th>12</th>\n",
       "      <td>Full-stack, JavaScript, Express.js</td>\n",
       "    </tr>\n",
       "    <tr>\n",
       "      <th>13</th>\n",
       "      <td>Cloud Computing, AWS, Python</td>\n",
       "    </tr>\n",
       "    <tr>\n",
       "      <th>14</th>\n",
       "      <td>AI, Python, scikit-learn</td>\n",
       "    </tr>\n",
       "    <tr>\n",
       "      <th>15</th>\n",
       "      <td>Data Engineering, Apache Spark, Python</td>\n",
       "    </tr>\n",
       "    <tr>\n",
       "      <th>16</th>\n",
       "      <td>Mobile Development, Flutter, Dart</td>\n",
       "    </tr>\n",
       "    <tr>\n",
       "      <th>17</th>\n",
       "      <td>Web App Development, Vue.js, Ruby on Rails</td>\n",
       "    </tr>\n",
       "    <tr>\n",
       "      <th>18</th>\n",
       "      <td>Game Development, Unity, C#</td>\n",
       "    </tr>\n",
       "    <tr>\n",
       "      <th>19</th>\n",
       "      <td>DevOps, Jenkins, Docker</td>\n",
       "    </tr>\n",
       "  </tbody>\n",
       "</table>\n",
       "</div>"
      ],
      "text/plain": [
       "                                    Technology\n",
       "0                        Python, Django, MySQL\n",
       "1         Machine Learning, Python, TensorFlow\n",
       "2       Large Language Models, Python, PyTorch\n",
       "3                 Deep Learning, Keras, Python\n",
       "4                   Flutter, Firebase, GraphQL\n",
       "5               React Native, Node.js, MongoDB\n",
       "6                        iOS, Swift, Core Data\n",
       "7              Android, Java, Room Persistence\n",
       "8                    Kotlin, Android, Firebase\n",
       "9              Web Development, React, Node.js\n",
       "10               Frontend, TypeScript, Angular\n",
       "11                Backend, Kotlin, Spring Boot\n",
       "12          Full-stack, JavaScript, Express.js\n",
       "13                Cloud Computing, AWS, Python\n",
       "14                    AI, Python, scikit-learn\n",
       "15      Data Engineering, Apache Spark, Python\n",
       "16           Mobile Development, Flutter, Dart\n",
       "17  Web App Development, Vue.js, Ruby on Rails\n",
       "18                 Game Development, Unity, C#\n",
       "19                     DevOps, Jenkins, Docker"
      ]
     },
     "execution_count": 14,
     "metadata": {},
     "output_type": "execute_result"
    }
   ],
   "source": [
    "df"
   ]
  },
  {
   "cell_type": "code",
   "execution_count": 15,
   "metadata": {},
   "outputs": [],
   "source": [
    "if not collections.count():\n",
    "  for i, row in  df.iterrows():\n",
    "    collections.add(documents = row['Technology'], ids =[str(uuid.uuid4())])"
   ]
  },
  {
   "cell_type": "code",
   "execution_count": 16,
   "metadata": {},
   "outputs": [
    {
     "data": {
      "text/plain": [
       "[['Machine Learning, Python, TensorFlow', 'AI, Python, scikit-learn'],\n",
       " ['Web Development, React, Node.js', 'React Native, Node.js, MongoDB']]"
      ]
     },
     "execution_count": 16,
     "metadata": {},
     "output_type": "execute_result"
    }
   ],
   "source": [
    "tech = collections.query(query_texts=['Experience in Python', 'React'], n_results = 2, ).get('documents', [])\n",
    "tech"
   ]
  },
  {
   "cell_type": "code",
   "execution_count": 17,
   "metadata": {},
   "outputs": [
    {
     "data": {
      "text/plain": [
       "{'role': 'Machine Learning Engineer',\n",
       " 'experience': '3+ years of non-internship professional software development experience, 2+ years of non-internship design or architecture experience, 2+ years of relevant experience in developing and deploying large scale machine learning or deep learning models and/or systems into production',\n",
       " 'skills': ['Machine Learning',\n",
       "  'Deep Learning',\n",
       "  'Natural Language Processing',\n",
       "  'Large Language Models',\n",
       "  'Generative AI',\n",
       "  'AWS services such as SageMaker, EMR, S3, DynamoDB and EC2',\n",
       "  'Programming languages',\n",
       "  'Data processing'],\n",
       " 'description': \"We are seeking a Machine Learning Engineer to develop cutting-edge AI solutions leveraging Large Language Models, Machine Learning and Natural Language Processing techniques to understand and resolve customer issues and provide earth's best customer service.\"}"
      ]
     },
     "execution_count": 17,
     "metadata": {},
     "output_type": "execute_result"
    }
   ],
   "source": [
    "json_res"
   ]
  },
  {
   "cell_type": "code",
   "execution_count": 18,
   "metadata": {},
   "outputs": [],
   "source": [
    "if type(json_res) == dict:\n",
    "  job = json_res.get(\"skills\", [])\n",
    "else:\n",
    "  job = json_res[0].get(\"skills\", [])"
   ]
  },
  {
   "cell_type": "code",
   "execution_count": 19,
   "metadata": {},
   "outputs": [
    {
     "data": {
      "text/plain": [
       "['Machine Learning',\n",
       " 'Deep Learning',\n",
       " 'Natural Language Processing',\n",
       " 'Large Language Models',\n",
       " 'Generative AI',\n",
       " 'AWS services such as SageMaker, EMR, S3, DynamoDB and EC2',\n",
       " 'Programming languages',\n",
       " 'Data processing']"
      ]
     },
     "execution_count": 19,
     "metadata": {},
     "output_type": "execute_result"
    }
   ],
   "source": [
    "job"
   ]
  },
  {
   "cell_type": "code",
   "execution_count": 20,
   "metadata": {},
   "outputs": [],
   "source": [
    "prompt_skills_and_question = PromptTemplate.from_template(\"\"\"\n",
    "        ### JOB DESCRIPTION:\n",
    "        {job_description}\n",
    "\n",
    "        ### INSTRUCTION:\n",
    "        You are Mishu Dhar Chando, the CEO of Knowledge Doctor, a YouTube channel specializing in educating individuals on machine learning, deep learning, and natural language processing.\n",
    "        Your expertise lies in bridging the gap between theoretical knowledge and practical applications through engaging content and innovative problem-solving techniques.\n",
    "        Your job is to:\n",
    "        1. Analyze the given job description to identify the required technical skills and match them with the provided skill set to calculate a percentage match.\n",
    "        2. Generate a list of relevant interview questions based on the job description.\n",
    "        3. Return the information in JSON format with the following keys:\n",
    "            - `skills_match`: A dictionary where each key is a skill, and the value is the matching percentage.\n",
    "            - `interview_questions`: A list of tailored questions related to the job description.\n",
    "\n",
    "        Only return the valid JSON.\n",
    "        ### VALID JSON (NO PREAMBLE):\n",
    "\n",
    "        \"\"\")"
   ]
  },
  {
   "cell_type": "code",
   "execution_count": 21,
   "metadata": {},
   "outputs": [
    {
     "name": "stdout",
     "output_type": "stream",
     "text": [
      "```json\n",
      "{\n",
      "    \"skills_match\": {\n",
      "        \"Machine Learning\": 100,\n",
      "        \"Deep Learning\": 100,\n",
      "        \"Natural Language Processing\": 100,\n",
      "        \"Large Language Models\": 100,\n",
      "        \"Generative AI\": 100,\n",
      "        \"AWS services\": 100,\n",
      "        \"Programming languages\": 100,\n",
      "        \"Data processing\": 100\n",
      "    },\n",
      "    \"interview_questions\": [\n",
      "        \"How do you approach a machine learning problem, and what are the key considerations for selecting the right algorithm?\",\n",
      "        \"Can you explain the concept of deep learning and its applications in natural language processing?\",\n",
      "        \"How do you handle overfitting in large language models, and what techniques do you use to improve model generalization?\",\n",
      "        \"What are the advantages and disadvantages of using generative AI models, and how do you evaluate their performance?\",\n",
      "        \"How do you design and implement a data processing pipeline using AWS services such as SageMaker, EMR, S3, DynamoDB, and EC2?\",\n",
      "        \"What programming languages do you prefer for machine learning and deep learning tasks, and why?\",\n",
      "        \"Can you describe a project where you applied natural language processing techniques to solve a real-world problem, and what were the outcomes?\",\n",
      "        \"How do you stay up-to-date with the latest developments in machine learning, deep learning, and natural language processing, and what resources do you recommend for continuous learning?\"\n",
      "    ]\n",
      "}\n",
      "```\n"
     ]
    }
   ],
   "source": [
    "chain_skills_and_question = prompt_skills_and_question | llm\n",
    "res = chain_skills_and_question.invoke({\"job_description\": str(job)})\n",
    "print(res.content)"
   ]
  },
  {
   "cell_type": "code",
   "execution_count": 22,
   "metadata": {},
   "outputs": [
    {
     "name": "stdout",
     "output_type": "stream",
     "text": [
      "The End\n"
     ]
    }
   ],
   "source": [
    "print(\"The End\")"
   ]
  }
 ],
 "metadata": {
  "kernelspec": {
   "display_name": "Python 3",
   "language": "python",
   "name": "python3"
  },
  "language_info": {
   "codemirror_mode": {
    "name": "ipython",
    "version": 3
   },
   "file_extension": ".py",
   "mimetype": "text/x-python",
   "name": "python",
   "nbconvert_exporter": "python",
   "pygments_lexer": "ipython3",
   "version": "3.11.0"
  }
 },
 "nbformat": 4,
 "nbformat_minor": 2
}
